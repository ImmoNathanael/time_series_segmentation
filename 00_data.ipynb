{
 "cells": [
  {
   "cell_type": "code",
   "execution_count": null,
   "metadata": {},
   "outputs": [],
   "source": [
    "# hide\n",
    "%load_ext autoreload\n",
    "%autoreload 2"
   ]
  },
  {
   "cell_type": "code",
   "execution_count": null,
   "metadata": {},
   "outputs": [],
   "source": [
    "# default_exp data"
   ]
  },
  {
   "cell_type": "markdown",
   "metadata": {},
   "source": [
    "# Ingest and prepare data\n",
    "\n",
    "We ingest the data and prepare it for feature engineering, by doing initial checks and "
   ]
  },
  {
   "cell_type": "code",
   "execution_count": null,
   "metadata": {},
   "outputs": [],
   "source": [
    "#hide\n",
    "import matplotlib.pyplot as plt\n",
    "from nbdev.showdoc import *"
   ]
  },
  {
   "cell_type": "code",
   "execution_count": null,
   "metadata": {},
   "outputs": [],
   "source": [
    "#export\n",
    "import pandas as pd\n",
    "import os\n",
    "\n",
    "from zipfile import ZipFile\n",
    "from nbdev.showdoc import *"
   ]
  },
  {
   "cell_type": "code",
   "execution_count": null,
   "metadata": {},
   "outputs": [],
   "source": [
    "#export\n",
    "def get_liverpool_ion_data():\n",
    "\n",
    "    '''\n",
    "    Gets data from Kaggle competition \"University of Liverpool - Ion Switching Identify the number of channels open at each time point\", \n",
    "    URL: https://www.kaggle.com/c/liverpool-ion-switching/data\n",
    "\n",
    "    This competition deals with time-step-wise segmentation.\n",
    "    \n",
    "    Requironments:\n",
    "    -----------------------------------------------------------------\n",
    "    Your kaggle API token has to be set up.\n",
    "    \n",
    "    \n",
    "    Output:\n",
    "    -----------------------------------------------------------------\n",
    "    3 data frames:\n",
    "    df_train: training data for the competition\n",
    "    df_test: test data for competition submission\n",
    "    df_sample: the kaggle submission sample format\n",
    "    \n",
    "    '''\n",
    "    \n",
    "    original_path = os.getcwd()\n",
    "    \n",
    "    try:\n",
    "        os.mkdir(original_path + '\\\\data')\n",
    "    except:\n",
    "        print(\"data folder already exists\")\n",
    "        \n",
    "    os.chdir(original_path+'\\\\data')\n",
    "    \n",
    "    \n",
    "    # get the data from kaggel\n",
    "    try:\n",
    "        kaggle_data = os.popen('kaggle competitions download -c liverpool-ion-switching')\n",
    "        kaggle_data.read()\n",
    "    except:\n",
    "        print('Is your kaggle API authentication set up correctly?')\n",
    "    \n",
    "    with ZipFile('liverpool-ion-switching.zip', 'r') as zipObj:\n",
    "       # Extract all the data from kaggle in to corresponding folder\n",
    "       zipObj.extractall(\"liverpool-ion-switching\")\n",
    "    \n",
    "    os.chdir(\"../data/liverpool-ion-switching\")\n",
    "       \n",
    "    df_train = pd.read_csv('train.csv')\n",
    "    df_test = pd.read_csv('test.csv')\n",
    "    df_sample = pd.read_csv('sample_submission.csv')\n",
    "    os.chdir(original_path)\n",
    "    \n",
    "    return df_train, df_test, df_sample"
   ]
  },
  {
   "cell_type": "code",
   "execution_count": null,
   "metadata": {},
   "outputs": [
    {
     "name": "stdout",
     "output_type": "stream",
     "text": [
      "data folder already exists\n"
     ]
    }
   ],
   "source": [
    "df_train, df_test, df_sample = get_liverpool_ion_data()"
   ]
  },
  {
   "cell_type": "code",
   "execution_count": null,
   "metadata": {},
   "outputs": [
    {
     "data": {
      "text/html": [
       "<div>\n",
       "<style scoped>\n",
       "    .dataframe tbody tr th:only-of-type {\n",
       "        vertical-align: middle;\n",
       "    }\n",
       "\n",
       "    .dataframe tbody tr th {\n",
       "        vertical-align: top;\n",
       "    }\n",
       "\n",
       "    .dataframe thead th {\n",
       "        text-align: right;\n",
       "    }\n",
       "</style>\n",
       "<table border=\"1\" class=\"dataframe\">\n",
       "  <thead>\n",
       "    <tr style=\"text-align: right;\">\n",
       "      <th></th>\n",
       "      <th>time</th>\n",
       "      <th>signal</th>\n",
       "      <th>open_channels</th>\n",
       "    </tr>\n",
       "  </thead>\n",
       "  <tbody>\n",
       "    <tr>\n",
       "      <th>0</th>\n",
       "      <td>0.0001</td>\n",
       "      <td>-2.7600</td>\n",
       "      <td>0</td>\n",
       "    </tr>\n",
       "    <tr>\n",
       "      <th>1</th>\n",
       "      <td>0.0002</td>\n",
       "      <td>-2.8557</td>\n",
       "      <td>0</td>\n",
       "    </tr>\n",
       "    <tr>\n",
       "      <th>2</th>\n",
       "      <td>0.0003</td>\n",
       "      <td>-2.4074</td>\n",
       "      <td>0</td>\n",
       "    </tr>\n",
       "    <tr>\n",
       "      <th>3</th>\n",
       "      <td>0.0004</td>\n",
       "      <td>-3.1404</td>\n",
       "      <td>0</td>\n",
       "    </tr>\n",
       "    <tr>\n",
       "      <th>4</th>\n",
       "      <td>0.0005</td>\n",
       "      <td>-3.1525</td>\n",
       "      <td>0</td>\n",
       "    </tr>\n",
       "    <tr>\n",
       "      <th>...</th>\n",
       "      <td>...</td>\n",
       "      <td>...</td>\n",
       "      <td>...</td>\n",
       "    </tr>\n",
       "    <tr>\n",
       "      <th>4999995</th>\n",
       "      <td>499.9996</td>\n",
       "      <td>2.9194</td>\n",
       "      <td>7</td>\n",
       "    </tr>\n",
       "    <tr>\n",
       "      <th>4999996</th>\n",
       "      <td>499.9997</td>\n",
       "      <td>2.6980</td>\n",
       "      <td>7</td>\n",
       "    </tr>\n",
       "    <tr>\n",
       "      <th>4999997</th>\n",
       "      <td>499.9998</td>\n",
       "      <td>4.5164</td>\n",
       "      <td>8</td>\n",
       "    </tr>\n",
       "    <tr>\n",
       "      <th>4999998</th>\n",
       "      <td>499.9999</td>\n",
       "      <td>5.6397</td>\n",
       "      <td>9</td>\n",
       "    </tr>\n",
       "    <tr>\n",
       "      <th>4999999</th>\n",
       "      <td>500.0000</td>\n",
       "      <td>5.3792</td>\n",
       "      <td>9</td>\n",
       "    </tr>\n",
       "  </tbody>\n",
       "</table>\n",
       "<p>5000000 rows × 3 columns</p>\n",
       "</div>"
      ],
      "text/plain": [
       "             time  signal  open_channels\n",
       "0          0.0001 -2.7600              0\n",
       "1          0.0002 -2.8557              0\n",
       "2          0.0003 -2.4074              0\n",
       "3          0.0004 -3.1404              0\n",
       "4          0.0005 -3.1525              0\n",
       "...           ...     ...            ...\n",
       "4999995  499.9996  2.9194              7\n",
       "4999996  499.9997  2.6980              7\n",
       "4999997  499.9998  4.5164              8\n",
       "4999998  499.9999  5.6397              9\n",
       "4999999  500.0000  5.3792              9\n",
       "\n",
       "[5000000 rows x 3 columns]"
      ]
     },
     "execution_count": null,
     "metadata": {},
     "output_type": "execute_result"
    }
   ],
   "source": [
    "df_train"
   ]
  },
  {
   "cell_type": "code",
   "execution_count": null,
   "metadata": {},
   "outputs": [
    {
     "name": "stdout",
     "output_type": "stream",
     "text": [
      "Converted 00_data.ipynb.\n",
      "Converted index.ipynb.\n"
     ]
    }
   ],
   "source": [
    "# hide\n",
    "from nbdev.export import notebook2script\n",
    "notebook2script()"
   ]
  },
  {
   "cell_type": "code",
   "execution_count": null,
   "metadata": {},
   "outputs": [],
   "source": []
  }
 ],
 "metadata": {
  "kernelspec": {
   "display_name": "Python 3",
   "language": "python",
   "name": "python3"
  }
 },
 "nbformat": 4,
 "nbformat_minor": 4
}
